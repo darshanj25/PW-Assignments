{
 "cells": [
  {
   "cell_type": "code",
   "execution_count": null,
   "id": "44086c27-2c84-4f1c-a37f-dd9aa50b53db",
   "metadata": {},
   "outputs": [],
   "source": [
    "#solution1\n",
    "'''class->A class is a user-defined data type. It consists of data members and member functions, which can be accessed and used by creating an instance of that class. It represents the set of properties or methods that are common to all objects of one type. A class is like a blueprint for an object.\n",
    "object ->It is a basic unit of Object-Oriented Programming and represents the real-life entities. \n",
    "An Object is an instance of a Class. When a class is defined, no memory is allocated but when it is instantiated (i.e. an object is created) memory is allocated. An object has an identity, state, and behavior. Each object contains data and code to manipulate the data.\n",
    "Objects can interact without having to know details of each other’s data or code, it is sufficient to know the type of message accepted and type of response returned by the objects.\n",
    "For example “Dog” is a real-life Object, which has some characteristics like color, Breed, Bark, Sleep, and Eats.'''"
   ]
  },
  {
   "cell_type": "code",
   "execution_count": 1,
   "id": "bea5f811-d3e0-479a-8339-88213bfa721a",
   "metadata": {},
   "outputs": [
    {
     "name": "stdout",
     "output_type": "stream",
     "text": [
      "I'm a mammal\n",
      "I'm a dog\n"
     ]
    }
   ],
   "source": [
    "class dog:\n",
    "    attr1=\"mammal\"\n",
    "    attr2=\"dog\"\n",
    "    def fun(self):\n",
    "        print(\"I'm a\", self.attr1)\n",
    "        print(\"I'm a\", self.attr2)\n",
    " \n",
    "pitbull=dog()\n",
    "pitbull.fun()"
   ]
  },
  {
   "cell_type": "code",
   "execution_count": 2,
   "id": "17e15aae-109e-449b-a422-f5d728264d9a",
   "metadata": {},
   "outputs": [],
   "source": [
    "#solution 2\n",
    "#->The four pillars of object-oriented programming are: Abstraction Encapsulation Inheritance Polymorphism"
   ]
  },
  {
   "cell_type": "code",
   "execution_count": 3,
   "id": "f037a41c-319c-4b10-b11f-d5396476b438",
   "metadata": {},
   "outputs": [
    {
     "data": {
      "text/plain": [
       "'The init() is a constructor.Constructors are used to initializing the object’s state.\\nThe task of constructors is to initialize(assign values) to the data members of the class when an object of the class is created. \\nLike methods, a constructor also contains a collection of statements(i.e. instructions) that are executed at the time of Object creation. \\nIt is run as soon as an object of a class is instantiated.'"
      ]
     },
     "execution_count": 3,
     "metadata": {},
     "output_type": "execute_result"
    }
   ],
   "source": [
    "#solution3\n",
    "'''The init() is a constructor.Constructors are used to initializing the object’s state.\n",
    "The task of constructors is to initialize(assign values) to the data members of the class when an object of the class is created. \n",
    "Like methods, a constructor also contains a collection of statements(i.e. instructions) that are executed at the time of Object creation. \n",
    "It is run as soon as an object of a class is instantiated.'''"
   ]
  },
  {
   "cell_type": "code",
   "execution_count": 4,
   "id": "5e06971a-f665-436c-82fa-b4a3d9f364bc",
   "metadata": {},
   "outputs": [
    {
     "name": "stdout",
     "output_type": "stream",
     "text": [
      "Hello, my name is pratham\n"
     ]
    }
   ],
   "source": [
    "class men:\n",
    "    def __init__(self, name):\n",
    "        self.name = name\n",
    "    def say_hi(self):\n",
    "        print('Hello, my name is', self.name)\n",
    "        \n",
    "p = men('pratham')\n",
    "p.say_hi()   "
   ]
  },
  {
   "cell_type": "code",
   "execution_count": 5,
   "id": "3c85df40-be0c-4ecd-91a2-8f4d7e9d3ab1",
   "metadata": {},
   "outputs": [
    {
     "data": {
      "text/plain": [
       "'self represents the instance of the class. By using the “self” we can access the attributes and methods of the class in python.  \\nIt binds the attributes with the given arguments.'"
      ]
     },
     "execution_count": 5,
     "metadata": {},
     "output_type": "execute_result"
    }
   ],
   "source": [
    "#solution 4\n",
    "'''self represents the instance of the class. By using the “self” we can access the attributes and methods of the class in python.  \n",
    "It binds the attributes with the given arguments.'''\n",
    "\n"
   ]
  },
  {
   "cell_type": "code",
   "execution_count": 6,
   "id": "be45e990-efd0-4b46-bc74-f004830a75b9",
   "metadata": {},
   "outputs": [
    {
     "data": {
      "text/plain": [
       "'Inheritance is the ability of one class to inherit another class. \\nInheritance provides reusability of code and allows us to create complex and real-world-like relationships among objects.\\nsyntax : class SubClass(SuperClass): \\nTypes of Inheritance: \\n1.single level inheritance \\n2.multiple inheritance \\n3.multi-level inheritance \\n4.Hierarchical Inheritance'"
      ]
     },
     "execution_count": 6,
     "metadata": {},
     "output_type": "execute_result"
    }
   ],
   "source": [
    "#solution 5\n",
    "'''Inheritance is the ability of one class to inherit another class. \n",
    "Inheritance provides reusability of code and allows us to create complex and real-world-like relationships among objects.\n",
    "syntax : class SubClass(SuperClass): \n",
    "Types of Inheritance: \n",
    "1.single level inheritance \n",
    "2.multiple inheritance \n",
    "3.multi-level inheritance \n",
    "4.Hierarchical Inheritance'''"
   ]
  },
  {
   "cell_type": "code",
   "execution_count": 7,
   "id": "2d2872cc-7c5a-471e-a803-83990e2a0d76",
   "metadata": {},
   "outputs": [
    {
     "name": "stdout",
     "output_type": "stream",
     "text": [
      "('John', 30)\n"
     ]
    }
   ],
   "source": [
    "# single inheritance\n",
    "class Person:\n",
    "    def __init__(self, name, age):\n",
    "        self.name = name\n",
    "        self.age = age\n",
    "class Professor(Person):\n",
    "    def isProfessor(self):\n",
    "        return self.name,self.age\n",
    "sir = Professor(\"John\", 30)\n",
    "print(sir.isProfessor())"
   ]
  },
  {
   "cell_type": "code",
   "execution_count": 8,
   "id": "7afa347b-9906-4fd1-96d1-c2ff56193e46",
   "metadata": {},
   "outputs": [
    {
     "name": "stdout",
     "output_type": "stream",
     "text": [
      "8\n"
     ]
    }
   ],
   "source": [
    "# multiple inheritance\n",
    "class SuperClass1:\n",
    "    num1 = 3\n",
    "class SuperClass2:\n",
    "    num2 = 5\n",
    "class SubClass( SuperClass1, SuperClass2):\n",
    "    def addition(self):\n",
    "        return self.num1 + self.num2\n",
    "obj = SubClass()\n",
    "print(obj.addition())"
   ]
  },
  {
   "cell_type": "code",
   "execution_count": 9,
   "id": "356d40cf-78cb-4072-adba-8382ede450ed",
   "metadata": {},
   "outputs": [
    {
     "name": "stdout",
     "output_type": "stream",
     "text": [
      "Pythondata\n"
     ]
    }
   ],
   "source": [
    "# multi-level inheritance\n",
    "class Parent:\n",
    "    str1 = \"Python\"\n",
    "class Child(Parent):\n",
    "    str2 = \"data\"\n",
    "class GrandChild(Child):\n",
    "    def get_str(self):\n",
    "        print(self.str1 + self.str2)\n",
    "person = GrandChild()\n",
    "person.get_str()"
   ]
  },
  {
   "cell_type": "code",
   "execution_count": null,
   "id": "b4d698ef-4200-4995-b422-9c16d425cf7f",
   "metadata": {},
   "outputs": [],
   "source": []
  }
 ],
 "metadata": {
  "kernelspec": {
   "display_name": "Python 3 (ipykernel)",
   "language": "python",
   "name": "python3"
  },
  "language_info": {
   "codemirror_mode": {
    "name": "ipython",
    "version": 3
   },
   "file_extension": ".py",
   "mimetype": "text/x-python",
   "name": "python",
   "nbconvert_exporter": "python",
   "pygments_lexer": "ipython3",
   "version": "3.10.6"
  }
 },
 "nbformat": 4,
 "nbformat_minor": 5
}
