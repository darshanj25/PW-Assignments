{
 "cells": [
  {
   "cell_type": "code",
   "execution_count": 1,
   "id": "a69c136a-0f94-4169-9549-a9ce47bad1c0",
   "metadata": {},
   "outputs": [
    {
     "name": "stdout",
     "output_type": "stream",
     "text": [
      "Starting the car engine\n",
      "Stopping the car engine\n"
     ]
    }
   ],
   "source": [
    "#solution1\n",
    "\"\"\"Abstraction in object-oriented programming (OOP) refers to the process of hiding complex implementation details and exposing only relevant information to the user.\n",
    "This helps in reducing the complexity of a system and improving its readability and maintainability.\"\"\"\n",
    "from abc import ABC, abstractmethod\n",
    "\n",
    "class Vehicle(ABC):\n",
    "    def __init__(self, make, model, wheels):\n",
    "        self.make = make\n",
    "        self.model = model\n",
    "        self.wheels = wheels\n",
    "\n",
    "    @abstractmethod\n",
    "    def start(self):\n",
    "        pass\n",
    "\n",
    "    @abstractmethod\n",
    "    def stop(self):\n",
    "        pass\n",
    "\n",
    "class Car(Vehicle):\n",
    "    def start(self):\n",
    "        print(\"Starting the car engine\")\n",
    "\n",
    "    def stop(self):\n",
    "        print(\"Stopping the car engine\")\n",
    "\n",
    "c = Car(\"Tesla\", \"Model 3\", 4)\n",
    "c.start()\n",
    "c.stop()"
   ]
  },
  {
   "cell_type": "code",
   "execution_count": 2,
   "id": "5fc6c6a9-10db-4dca-8bac-8ded551fa4eb",
   "metadata": {},
   "outputs": [
    {
     "name": "stdout",
     "output_type": "stream",
     "text": [
      "Current balance: 1000\n",
      "New balance: 1500\n"
     ]
    }
   ],
   "source": [
    "#solution 2\n",
    "'''Abstraction and Encapsulation are two fundamental concepts in Object-Oriented Programming (OOP) that help in organizing and managing code. While both concepts are related and often used together, they have different purposes.\n",
    "\n",
    "Abstraction refers to the process of hiding complex implementation details and exposing only relevant information to the user. The goal of abstraction is to reduce the complexity of a system and make it easier to understand and use.\n",
    "\n",
    "Encapsulation refers to the idea of wrapping data and behavior within a single unit or object. Encapsulation helps to protect the internal state of an object from external modification and unwanted access.'''\n",
    "\n",
    "class BankAccount:\n",
    "    def __init__(self, account_number, balance):\n",
    "        self.__account_number = account_number\n",
    "        self.__balance = balance\n",
    "\n",
    "    def get_balance(self):\n",
    "        return self.__balance\n",
    "\n",
    "    def deposit(self, amount):\n",
    "        self.__balance += amount\n",
    "\n",
    "    def withdraw(self, amount):\n",
    "        if self.__balance >= amount:\n",
    "            self.__balance -= amount\n",
    "            return True\n",
    "        else:\n",
    "            return False\n",
    "\n",
    "# Abstraction: The user does not need to know how the deposit and withdraw methods work internally. They just need to know what they do.\n",
    "\n",
    "# Encapsulation: The internal state of the BankAccount object is protected from external modification. The user can only access the balance through the get_balance method and cannot directly modify the balance or the account number.\n",
    "\n",
    "account = BankAccount(\"1234567890\", 1000)\n",
    "print(\"Current balance:\", account.get_balance())\n",
    "account.deposit(500)\n",
    "print(\"New balance:\", account.get_balance())\n"
   ]
  },
  {
   "cell_type": "code",
   "execution_count": 3,
   "id": "bcfe0c48-379e-430c-9137-2fdc93df31b5",
   "metadata": {},
   "outputs": [
    {
     "ename": "TypeError",
     "evalue": "Can't instantiate abstract class Shape with abstract method area",
     "output_type": "error",
     "traceback": [
      "\u001b[0;31m---------------------------------------------------------------------------\u001b[0m",
      "\u001b[0;31mTypeError\u001b[0m                                 Traceback (most recent call last)",
      "Cell \u001b[0;32mIn [3], line 23\u001b[0m\n\u001b[1;32m     20\u001b[0m     \u001b[38;5;28;01mdef\u001b[39;00m \u001b[38;5;21marea\u001b[39m(\u001b[38;5;28mself\u001b[39m):\n\u001b[1;32m     21\u001b[0m         \u001b[38;5;28;01mreturn\u001b[39;00m \u001b[38;5;241m3.14\u001b[39m \u001b[38;5;241m*\u001b[39m \u001b[38;5;28mself\u001b[39m\u001b[38;5;241m.\u001b[39mradius \u001b[38;5;241m*\u001b[39m \u001b[38;5;28mself\u001b[39m\u001b[38;5;241m.\u001b[39mradius\n\u001b[0;32m---> 23\u001b[0m s \u001b[38;5;241m=\u001b[39m \u001b[43mShape\u001b[49m\u001b[43m(\u001b[49m\u001b[43m)\u001b[49m \u001b[38;5;66;03m# This will raise TypeError: Can't instantiate abstract class Shape with abstract methods area\u001b[39;00m\n\u001b[1;32m     24\u001b[0m c \u001b[38;5;241m=\u001b[39m Circle(\u001b[38;5;241m5\u001b[39m)\n\u001b[1;32m     25\u001b[0m \u001b[38;5;28mprint\u001b[39m(\u001b[38;5;124m\"\u001b[39m\u001b[38;5;124mArea of circle:\u001b[39m\u001b[38;5;124m\"\u001b[39m, c\u001b[38;5;241m.\u001b[39marea())\n",
      "\u001b[0;31mTypeError\u001b[0m: Can't instantiate abstract class Shape with abstract method area"
     ]
    }
   ],
   "source": [
    "#solution3\n",
    "'''The abc (Abstract Base Class) module in Python is part of the standard library and provides a way to define abstract base classes in Python. \n",
    "An abstract base class is a class that cannot be instantiated and is meant to be used as a base class for one or more concrete (i.e., non-abstract) classes.\n",
    "\n",
    "The abc module is used to enforce abstract methods, which are methods that must be overridden by concrete subclasses.\n",
    "If a concrete subclass does not implement an abstract method, a TypeError is raised. This helps in ensuring that a certain interface is implemented by all concrete subclasses,\n",
    "making it easier to write code that can work with objects of different types, without having to check the type of the object at runtime.'''\n",
    "\n",
    "from abc import ABC, abstractmethod\n",
    "\n",
    "class Shape(ABC):\n",
    "    @abstractmethod\n",
    "    def area(self):\n",
    "        pass\n",
    "\n",
    "class Circle(Shape):\n",
    "    def __init__(self, radius):\n",
    "        self.radius = radius\n",
    "\n",
    "    def area(self):\n",
    "        return 3.14 * self.radius * self.radius\n",
    "\n",
    "s = Shape() # This will raise TypeError: Can't instantiate abstract class Shape with abstract methods area\n",
    "c = Circle(5)\n",
    "print(\"Area of circle:\", c.area())\n"
   ]
  },
  {
   "cell_type": "code",
   "execution_count": 4,
   "id": "e701a120-104d-4f27-8694-db0866be528c",
   "metadata": {},
   "outputs": [
    {
     "name": "stdout",
     "output_type": "stream",
     "text": [
      "Current balance: 1000\n",
      "New balance: 1500\n"
     ]
    }
   ],
   "source": [
    "#solution 4\n",
    "'''Data Abstraction is a programming concept that refers to hiding the underlying implementation details of data and exposing only the necessary information to the user.\n",
    "This helps in reducing the complexity of a system and making it easier to understand and use.\n",
    "\n",
    "Data Abstraction can be achieved in various ways in programming:\n",
    "\n",
    "\n",
    "Encapsulation: Encapsulation involves wrapping data and behavior within a single unit or object.\n",
    "               By encapsulating data, we can hide the implementation details and expose only the relevant information to the user.\n",
    "               In object-oriented programming, encapsulation is achieved by using classes and objects.\n",
    "\n",
    "Interfaces and Abstract Classes: Interfaces and abstract classes allow us to define a common set of methods that must be implemented by concrete classes.\n",
    "                                 This enforces a certain contract between the classes, making it easier to write code that can work with objects of different types, \n",
    "                                 without having to check the type of the object at runtime.\n",
    "\n",
    "Information Hiding: Information hiding is a technique where we keep the internal details of a data structure or algorithm hidden from the outside world.\n",
    "                    This helps in making the system more secure, as well as easier to maintain and evolve.\n",
    "\n",
    "Modules and Packages: Modules and packages are another way to achieve data abstraction in programming.\n",
    "                      By dividing a large system into smaller, manageable components, we can hide the implementation details of each component and provide a clean, well-defined interface for accessing their functionality'''\n",
    "\n",
    "class BankAccount:\n",
    "    def __init__(self, account_number, balance):\n",
    "        self.__account_number = account_number\n",
    "        self.__balance = balance\n",
    "\n",
    "    def get_balance(self):\n",
    "        return self.__balance\n",
    "\n",
    "    def deposit(self, amount):\n",
    "        self.__balance += amount\n",
    "\n",
    "    def withdraw(self, amount):\n",
    "        if self.__balance >= amount:\n",
    "            self.__balance -= amount\n",
    "            return True\n",
    "        else:\n",
    "            return False\n",
    "\n",
    "account = BankAccount(\"1234567890\", 1000)\n",
    "print(\"Current balance:\", account.get_balance())\n",
    "account.deposit(500)\n",
    "print(\"New balance:\", account.get_balance())"
   ]
  },
  {
   "cell_type": "code",
   "execution_count": 5,
   "id": "d9d1029a-61f4-4d7b-9bbe-c92942196f1b",
   "metadata": {},
   "outputs": [
    {
     "ename": "TypeError",
     "evalue": "Can't instantiate abstract class Shape with abstract method area",
     "output_type": "error",
     "traceback": [
      "\u001b[0;31m---------------------------------------------------------------------------\u001b[0m",
      "\u001b[0;31mTypeError\u001b[0m                                 Traceback (most recent call last)",
      "Cell \u001b[0;32mIn [5], line 14\u001b[0m\n\u001b[1;32m     10\u001b[0m     \u001b[38;5;129m@abstractmethod\u001b[39m\n\u001b[1;32m     11\u001b[0m     \u001b[38;5;28;01mdef\u001b[39;00m \u001b[38;5;21marea\u001b[39m(\u001b[38;5;28mself\u001b[39m):\n\u001b[1;32m     12\u001b[0m         \u001b[38;5;28;01mpass\u001b[39;00m\n\u001b[0;32m---> 14\u001b[0m s \u001b[38;5;241m=\u001b[39m \u001b[43mShape\u001b[49m\u001b[43m(\u001b[49m\u001b[43m)\u001b[49m\n",
      "\u001b[0;31mTypeError\u001b[0m: Can't instantiate abstract class Shape with abstract method area"
     ]
    }
   ],
   "source": [
    "#solution 5\n",
    "'''No, you cannot create an instance of an abstract class. An abstract class is a class that is meant to be used as a base class for one or more concrete (i.e., non-abstract) classes.\n",
    "It cannot be instantiated on its own, and its purpose is to provide a common interface that must be implemented by its concrete subclasses.\n",
    "\n",
    "An abstract class is defined using the abc module in Python and it can contain abstract methods, which are methods that do not have an implementation. \n",
    "These abstract methods must be overridden by concrete subclasses, otherwise a TypeError is raised.'''\n",
    "from abc import ABC, abstractmethod\n",
    "\n",
    "class Shape(ABC):\n",
    "    @abstractmethod\n",
    "    def area(self):\n",
    "        pass\n",
    "\n",
    "s = Shape() # This will raise TypeError: Can't instantiate abstract class Shape with abstract methods area"
   ]
  },
  {
   "cell_type": "code",
   "execution_count": null,
   "id": "d9e79407-bda7-43ec-96d4-f34a7c3927bc",
   "metadata": {},
   "outputs": [],
   "source": []
  }
 ],
 "metadata": {
  "kernelspec": {
   "display_name": "Python 3 (ipykernel)",
   "language": "python",
   "name": "python3"
  },
  "language_info": {
   "codemirror_mode": {
    "name": "ipython",
    "version": 3
   },
   "file_extension": ".py",
   "mimetype": "text/x-python",
   "name": "python",
   "nbconvert_exporter": "python",
   "pygments_lexer": "ipython3",
   "version": "3.10.6"
  }
 },
 "nbformat": 4,
 "nbformat_minor": 5
}
