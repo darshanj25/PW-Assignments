{
 "cells": [
  {
   "cell_type": "code",
   "execution_count": 1,
   "id": "079961bc",
   "metadata": {},
   "outputs": [
    {
     "data": {
      "text/plain": [
       "[1, 3, 5, 7, 9, 11, 13, 15, 17, 19, 21, 23, 25]"
      ]
     },
     "execution_count": 1,
     "metadata": {},
     "output_type": "execute_result"
    }
   ],
   "source": [
    "#solution 1\n",
    "#->def keyword is used to create a function in python.\n",
    "l=list(range(1,26))\n",
    "def odd(l):\n",
    "    l1=[]\n",
    "    for i in l:\n",
    "        if i%2!=0:\n",
    "            l1.append(i)\n",
    "    return l1 \n",
    "\n",
    "odd(l)"
   ]
  },
  {
   "cell_type": "code",
   "execution_count": 2,
   "id": "cc656fb6",
   "metadata": {},
   "outputs": [
    {
     "data": {
      "text/plain": [
       "{'a': [1, 2, 3, 4, 5], 'b': 'sudh', 'c': 23.45}"
      ]
     },
     "execution_count": 2,
     "metadata": {},
     "output_type": "execute_result"
    }
   ],
   "source": [
    "#solution 2\n",
    "'''when we don't know how much argument have been user passed in that case we use args and kwargs.\n",
    "   args is generally used list,tuple, string ,int etc \n",
    "   and **kwargs is used with dictionary which contain key ,value pair.'''\n",
    "def test(*args,a):\n",
    "    return args,a\n",
    "\n",
    "test(1,2,3,4,5,a=12)\n",
    "\n",
    "\n",
    "def test2(**kwargs):\n",
    "    return kwargs\n",
    "\n",
    "test2(a=[1,2,3,4,5],b=\"sudh\",c=23.45)"
   ]
  },
  {
   "cell_type": "code",
   "execution_count": 3,
   "id": "cbb54695",
   "metadata": {},
   "outputs": [
    {
     "name": "stdout",
     "output_type": "stream",
     "text": [
      "2\n",
      "4\n",
      "6\n",
      "8\n",
      "10\n",
      "12\n",
      "14\n",
      "16\n",
      "18\n",
      "20\n"
     ]
    }
   ],
   "source": [
    "#solution 3\n",
    "'''Iterator in Python is an object that is used to iterate over iterable objects like lists, tuples, dicts,and sets.\n",
    "The iterator object is initialized using the iter() method. It uses the next() method for iteration.'''\n",
    "l=[2, 4, 6, 8, 10, 12, 14, 16, 18, 20]\n",
    "i=iter(l)\n",
    "for j in range(len(l)):\n",
    "    print(next(i))"
   ]
  },
  {
   "cell_type": "code",
   "execution_count": 4,
   "id": "0f4bddf9",
   "metadata": {},
   "outputs": [
    {
     "name": "stdout",
     "output_type": "stream",
     "text": [
      "1\n",
      "2\n",
      "3\n",
      "4\n",
      "5\n",
      "6\n"
     ]
    }
   ],
   "source": [
    "#solution 4\n",
    " #Generators are the functions that return the traversal object and used to create iterators.It traverses the entire items at once.The yield statement is responsible for controlling the flow of the generator function. It pauses the function execution by saving all states and yielded to the caller. \n",
    "#Later it resumes execution when a successive function is called.\n",
    "def count_test(n):\n",
    "    count =1\n",
    "    while count< n:\n",
    "        yield count\n",
    "        count =count +1\n",
    "for i in count_test(7):\n",
    "        print(i) "
   ]
  },
  {
   "cell_type": "code",
   "execution_count": 5,
   "id": "7b7a6a3e",
   "metadata": {},
   "outputs": [
    {
     "name": "stdout",
     "output_type": "stream",
     "text": [
      "2\n",
      "3\n",
      "5\n",
      "7\n",
      "11\n",
      "13\n",
      "17\n",
      "19\n",
      "23\n",
      "29\n",
      "31\n",
      "37\n",
      "41\n",
      "43\n",
      "47\n",
      "53\n",
      "59\n",
      "61\n",
      "67\n",
      "71\n"
     ]
    }
   ],
   "source": [
    "#solution 5\n",
    "def prime_numbers():\n",
    "    primes = []\n",
    "    for num in range(2, 1000):\n",
    "        for prime in primes:\n",
    "            if num % prime == 0:\n",
    "                break\n",
    "        else:\n",
    "            primes.append(num)\n",
    "            yield num\n",
    "\n",
    "prime_gen = prime_numbers()\n",
    "for i in range(20):\n",
    "    print(next(prime_gen))"
   ]
  },
  {
   "cell_type": "code",
   "execution_count": 6,
   "id": "b795198c",
   "metadata": {},
   "outputs": [
    {
     "name": "stdout",
     "output_type": "stream",
     "text": [
      "0\n",
      "1\n",
      "1\n",
      "2\n",
      "3\n",
      "5\n",
      "8\n",
      "13\n",
      "21\n",
      "34\n"
     ]
    }
   ],
   "source": [
    "#solution 6\n",
    "n=10\n",
    "a,b=0,1\n",
    "while n>0:\n",
    "    print(a)\n",
    "    c=a+b\n",
    "    a=b\n",
    "    b=c\n",
    "    n=n-1"
   ]
  },
  {
   "cell_type": "code",
   "execution_count": 7,
   "id": "d72e5be0",
   "metadata": {},
   "outputs": [],
   "source": [
    "#solution 7\n",
    "l= [i for i in \"Pwskills\"]"
   ]
  },
  {
   "cell_type": "code",
   "execution_count": 8,
   "id": "06c2938f",
   "metadata": {},
   "outputs": [
    {
     "data": {
      "text/plain": [
       "['P', 'w', 's', 'k', 'i', 'l', 'l', 's']"
      ]
     },
     "execution_count": 8,
     "metadata": {},
     "output_type": "execute_result"
    }
   ],
   "source": [
    "l"
   ]
  },
  {
   "cell_type": "code",
   "execution_count": 9,
   "id": "545bf24b",
   "metadata": {},
   "outputs": [
    {
     "name": "stdout",
     "output_type": "stream",
     "text": [
      "Enter a number: 10101\n",
      "The number is a palindrome.\n"
     ]
    }
   ],
   "source": [
    "#solution 8\n",
    "def is_palindrome(num):\n",
    "    original = num\n",
    "    reverse = 0\n",
    "    while num > 0:\n",
    "        remainder = num % 10\n",
    "        reverse = (reverse * 10) + remainder\n",
    "        num = num // 10\n",
    "    return original == reverse\n",
    "\n",
    "number = int(input(\"Enter a number: \"))\n",
    "if is_palindrome(number):\n",
    "    print(\"The number is a palindrome.\")\n",
    "else:\n",
    "    print(\"The number is not a palindrome.\")"
   ]
  },
  {
   "cell_type": "code",
   "execution_count": 11,
   "id": "166ce64b",
   "metadata": {},
   "outputs": [],
   "source": [
    "#solution 9\n",
    "l=[i for i in range(1,101) if i%2!=0 ]"
   ]
  },
  {
   "cell_type": "code",
   "execution_count": 12,
   "id": "7c269c6b",
   "metadata": {},
   "outputs": [
    {
     "data": {
      "text/plain": [
       "[1,\n",
       " 3,\n",
       " 5,\n",
       " 7,\n",
       " 9,\n",
       " 11,\n",
       " 13,\n",
       " 15,\n",
       " 17,\n",
       " 19,\n",
       " 21,\n",
       " 23,\n",
       " 25,\n",
       " 27,\n",
       " 29,\n",
       " 31,\n",
       " 33,\n",
       " 35,\n",
       " 37,\n",
       " 39,\n",
       " 41,\n",
       " 43,\n",
       " 45,\n",
       " 47,\n",
       " 49,\n",
       " 51,\n",
       " 53,\n",
       " 55,\n",
       " 57,\n",
       " 59,\n",
       " 61,\n",
       " 63,\n",
       " 65,\n",
       " 67,\n",
       " 69,\n",
       " 71,\n",
       " 73,\n",
       " 75,\n",
       " 77,\n",
       " 79,\n",
       " 81,\n",
       " 83,\n",
       " 85,\n",
       " 87,\n",
       " 89,\n",
       " 91,\n",
       " 93,\n",
       " 95,\n",
       " 97,\n",
       " 99]"
      ]
     },
     "execution_count": 12,
     "metadata": {},
     "output_type": "execute_result"
    }
   ],
   "source": [
    "l"
   ]
  },
  {
   "cell_type": "code",
   "execution_count": null,
   "id": "9b17b338",
   "metadata": {},
   "outputs": [],
   "source": []
  }
 ],
 "metadata": {
  "kernelspec": {
   "display_name": "Python 3 (ipykernel)",
   "language": "python",
   "name": "python3"
  },
  "language_info": {
   "codemirror_mode": {
    "name": "ipython",
    "version": 3
   },
   "file_extension": ".py",
   "mimetype": "text/x-python",
   "name": "python",
   "nbconvert_exporter": "python",
   "pygments_lexer": "ipython3",
   "version": "3.9.12"
  }
 },
 "nbformat": 4,
 "nbformat_minor": 5
}
