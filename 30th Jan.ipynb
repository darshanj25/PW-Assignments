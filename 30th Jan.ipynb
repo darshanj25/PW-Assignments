{
  "nbformat": 4,
  "nbformat_minor": 0,
  "metadata": {
    "colab": {
      "provenance": []
    },
    "kernelspec": {
      "name": "python3",
      "display_name": "Python 3"
    },
    "language_info": {
      "name": "python"
    }
  },
  "cells": [
    {
      "cell_type": "code",
      "execution_count": 3,
      "metadata": {
        "colab": {
          "base_uri": "https://localhost:8080/"
        },
        "id": "1XtXLcRLRXWy",
        "outputId": "48789c67-3abf-40ec-b38d-b4437caa798d"
      },
      "outputs": [
        {
          "output_type": "stream",
          "name": "stdout",
          "text": [
            "Enter Your Marks: 85\n",
            "Grade : B\n"
          ]
        }
      ],
      "source": [
        "#question1\n",
        "Marks = int(input(\"Enter Your Marks: \"))\n",
        "if Marks > 90 :\n",
        "    print(\"Grade : A\")\n",
        "elif Marks >80 and Marks<=90:\n",
        "    print(\"Grade : B\")\n",
        "elif Marks >=60 and Marks<=80:\n",
        "    print(\"Grade : C\")\n",
        "else:\n",
        "    print(\"Grade : D\")"
      ]
    },
    {
      "cell_type": "code",
      "source": [
        "#question2\n",
        "price = int(input(\"Enter the cost price of your bike: \"))\n",
        "tax = None\n",
        "if price<=50000:\n",
        "    tax=price*0.05\n",
        "elif price>50000 and price<=100000:\n",
        "    tax=price*0.10\n",
        "else:\n",
        "    tax=price*0.15\n",
        "print('The amount of tax that you have to pay is',tax)    "
      ],
      "metadata": {
        "colab": {
          "base_uri": "https://localhost:8080/"
        },
        "id": "PXD9ZgLOR7P9",
        "outputId": "ad5b80f2-d254-4ced-c593-9b864e7c1824"
      },
      "execution_count": 4,
      "outputs": [
        {
          "output_type": "stream",
          "name": "stdout",
          "text": [
            "Enter the cost price of your bike: 60000\n",
            "The amount of tax that you have to pay is 6000.0\n"
          ]
        }
      ]
    },
    {
      "cell_type": "code",
      "source": [
        "#question3\n",
        "city =str(input(\"Enter the name of the city: \"))\n",
        "if city=='Delhi'or city=='delhi':\n",
        "    print(\"Red Fort\")\n",
        "elif city=='Agra' or city=='agra':\n",
        "    print(\"Taj Mahal\")\n",
        "elif city=='Jaipur' or city=='jaipur':\n",
        "    print(\"Jal Mahal\")\n",
        "else:\n",
        "    pass"
      ],
      "metadata": {
        "colab": {
          "base_uri": "https://localhost:8080/"
        },
        "id": "l0wJocQMR_vy",
        "outputId": "0a320571-6105-4063-f4be-181e6d090e29"
      },
      "execution_count": 5,
      "outputs": [
        {
          "output_type": "stream",
          "name": "stdout",
          "text": [
            "Enter the name of the city: Jaipur\n",
            "Jal Mahal\n"
          ]
        }
      ]
    },
    {
      "cell_type": "code",
      "source": [
        "\n",
        "#question4\n",
        "num = int(input(\"Enter a number = \"))\n",
        "count= 0\n",
        "while num>=10:\n",
        "    num =num/3;\n",
        "    count +=1\n",
        "print('Number of Times=',count)"
      ],
      "metadata": {
        "colab": {
          "base_uri": "https://localhost:8080/"
        },
        "id": "oAPDPyrISCRd",
        "outputId": "c2adf344-0d30-41a4-8f84-f77caa58865e"
      },
      "execution_count": 6,
      "outputs": [
        {
          "output_type": "stream",
          "name": "stdout",
          "text": [
            "Enter a number = 90\n",
            "Number of Times= 2\n"
          ]
        }
      ]
    },
    {
      "cell_type": "code",
      "source": [
        "#question5\n",
        "#The while loop executes a set of statements as long as a condition is true.\n",
        "i = 1\n",
        "while i < 5:\n",
        "    print(\"Hello world\")\n",
        "    i = i + 1"
      ],
      "metadata": {
        "colab": {
          "base_uri": "https://localhost:8080/"
        },
        "id": "Ew3v1lZ_SEB1",
        "outputId": "55f054d8-e074-4632-8332-33fcd3526480"
      },
      "execution_count": 7,
      "outputs": [
        {
          "output_type": "stream",
          "name": "stdout",
          "text": [
            "Hello world\n",
            "Hello world\n",
            "Hello world\n",
            "Hello world\n"
          ]
        }
      ]
    },
    {
      "cell_type": "code",
      "source": [
        "# question 5 Why and when to use while loop in python give a detailed description with example?\n",
        "'''\n",
        "Python while loop is used to run a block code until a certain condition is met.\n",
        "\n",
        "The syntax of while loop is:\n",
        "\n",
        "while condition:\n",
        "    # body of while loop\n",
        "\n",
        "\n",
        "* A while loop evaluates the condition\n",
        "* If the condition evaluates to True, the code inside the while loop is executed.\n",
        "* condition is evaluated again.\n",
        "* This process continues until the condition is False.\n",
        "* When condition evaluates to False, the loop stops.\n",
        "'''\n",
        "# Example\n",
        "# program to display numbers from 1 to 5\n",
        "\n",
        "# initialize the variable\n",
        "i = 1\n",
        "n = 5\n",
        "\n",
        "# while loop from i = 1 to 5\n",
        "while i <= n:\n",
        "    print(i)\n",
        "    i = i + 1"
      ],
      "metadata": {
        "colab": {
          "base_uri": "https://localhost:8080/"
        },
        "id": "BYG1FjsaSHL0",
        "outputId": "f4e2fed3-e51a-4a1f-8443-a09f26eaad4f"
      },
      "execution_count": 1,
      "outputs": [
        {
          "output_type": "stream",
          "name": "stdout",
          "text": [
            "1\n",
            "2\n",
            "3\n",
            "4\n",
            "5\n"
          ]
        }
      ]
    },
    {
      "cell_type": "code",
      "source": [
        "#question6\n",
        "print(\"1st\\n\")\n",
        "n = int(input('Enter number of rows : '))\n",
        " \n",
        "i = 1\n",
        "while i <= n :\n",
        "    j = 1\n",
        "    while j <= i:\n",
        "        print(\"*\", end = \" \")\n",
        "        j += 1\n",
        "    print()\n",
        "    i += 1\n",
        "    \n",
        "    \n",
        "print('\\n2nd\\n')\n",
        "#n = int(input('Enter number of rows : '))\n",
        " \n",
        "i = 1\n",
        "while i <= n :\n",
        "    j = n\n",
        "    while j >= i:\n",
        "        print(\"*\", end = \" \")\n",
        "        j -= 1\n",
        "    print()\n",
        "    i += 1\n",
        "\n",
        "print('\\n3rd\\n')\n",
        "\n",
        "i = 1\n",
        "while i <= n:\n",
        "    j = i\n",
        "    while j < n:\n",
        "        # display space\n",
        "        print(' ', end=' ')\n",
        "        j += 1\n",
        "    k = 1\n",
        "    while k <= i:\n",
        "        print('*', end=' ')\n",
        "        k += 1\n",
        "    print()\n",
        "    i += 1\n",
        "\n",
        "i = n\n",
        "while i >= 1:\n",
        "    j = i\n",
        "    while j <= n:\n",
        "        print(' ', end=' ')\n",
        "        j += 1\n",
        "    k = 1\n",
        "    while k < i:\n",
        "        print('*', end=' ')\n",
        "        k += 1\n",
        "    print('')\n",
        "    i -= 1"
      ],
      "metadata": {
        "colab": {
          "base_uri": "https://localhost:8080/"
        },
        "id": "t4xfL4JxToVG",
        "outputId": "cccc69e5-e84d-4638-8489-ece4779091b7"
      },
      "execution_count": 8,
      "outputs": [
        {
          "output_type": "stream",
          "name": "stdout",
          "text": [
            "1st\n",
            "\n",
            "Enter number of rows : 6\n",
            "* \n",
            "* * \n",
            "* * * \n",
            "* * * * \n",
            "* * * * * \n",
            "* * * * * * \n",
            "\n",
            "2nd\n",
            "\n",
            "* * * * * * \n",
            "* * * * * \n",
            "* * * * \n",
            "* * * \n",
            "* * \n",
            "* \n",
            "\n",
            "3rd\n",
            "\n",
            "          * \n",
            "        * * \n",
            "      * * * \n",
            "    * * * * \n",
            "  * * * * * \n",
            "* * * * * * \n",
            "  * * * * * \n",
            "    * * * * \n",
            "      * * * \n",
            "        * * \n",
            "          * \n",
            "            \n"
          ]
        }
      ]
    },
    {
      "cell_type": "code",
      "source": [
        "#question7&8\n",
        "num=10\n",
        "while num>0:\n",
        "    print(num)\n",
        "    num-=1 "
      ],
      "metadata": {
        "colab": {
          "base_uri": "https://localhost:8080/"
        },
        "id": "EBoBtHRKTsg9",
        "outputId": "f3ca9dbd-2141-4de1-dd36-f86598d30363"
      },
      "execution_count": 9,
      "outputs": [
        {
          "output_type": "stream",
          "name": "stdout",
          "text": [
            "10\n",
            "9\n",
            "8\n",
            "7\n",
            "6\n",
            "5\n",
            "4\n",
            "3\n",
            "2\n",
            "1\n"
          ]
        },
        {
          "output_type": "execute_result",
          "data": {
            "text/plain": [
              "1"
            ]
          },
          "metadata": {},
          "execution_count": 9
        }
      ]
    },
    {
      "cell_type": "code",
      "source": [],
      "metadata": {
        "id": "bmcrLtCQUu-2"
      },
      "execution_count": null,
      "outputs": []
    }
  ]
}