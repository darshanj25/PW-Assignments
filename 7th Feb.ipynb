{
 "cells": [
  {
   "cell_type": "code",
   "execution_count": 9,
   "id": "04dbecc9-d60e-4832-84af-35a5906600ba",
   "metadata": {},
   "outputs": [],
   "source": [
    "#solution 1\n",
    "def check_password(password):\n",
    "    upper_case =0\n",
    "    lower_case=0\n",
    "    number=0\n",
    "    special_char=0\n",
    "    for char in password:\n",
    "        if char.isupper():\n",
    "            upper_case +=1\n",
    "        elif char.islower():\n",
    "            lower_case +=1\n",
    "        elif char.isdigit():\n",
    "            number +=1\n",
    "        elif char in '!@#$%^&*':\n",
    "            special_char +=1\n",
    "    if len(password) ==10 and upper_case>=2 and lower_case >=2 and number >=1 and special_char>=3:\n",
    "        return \"valid Password\"\n",
    "    else:\n",
    "        return \"Invalid Password\"\n",
    "        "
   ]
  },
  {
   "cell_type": "code",
   "execution_count": 12,
   "id": "ca329c64-9c7e-40dd-b3c7-30c7d130d6c3",
   "metadata": {},
   "outputs": [
    {
     "data": {
      "text/plain": [
       "'valid Password'"
      ]
     },
     "execution_count": 12,
     "metadata": {},
     "output_type": "execute_result"
    }
   ],
   "source": [
    "check_password(\"AbCd@#$54e\")"
   ]
  },
  {
   "cell_type": "code",
   "execution_count": 13,
   "id": "fa4710db-0a25-498f-85e8-f9a8b310403c",
   "metadata": {},
   "outputs": [
    {
     "name": "stdout",
     "output_type": "stream",
     "text": [
      "['apple']\n"
     ]
    }
   ],
   "source": [
    "#solution 2\n",
    "\n",
    "#check if the string start with a particular letter\n",
    "string = [\"apple\", \"banana\", \"cherry\"]\n",
    "letter = \"a\"\n",
    "result = list(filter(lambda x: x.startswith(letter), string))\n",
    "print(result)"
   ]
  },
  {
   "cell_type": "code",
   "execution_count": 14,
   "id": "ce912f0c-04ca-4592-861b-05b7d878d6f5",
   "metadata": {},
   "outputs": [
    {
     "name": "stdout",
     "output_type": "stream",
     "text": [
      "['123', '456', '789']\n"
     ]
    }
   ],
   "source": [
    "#check if the string is numeric\n",
    "string = [\"123\", \"456\", \"abc\", \"789\"]\n",
    "result = list(filter(lambda x: x.isnumeric(), string))\n",
    "print(result)\n"
   ]
  },
  {
   "cell_type": "code",
   "execution_count": 15,
   "id": "959f79ca-e161-4306-a9d5-db7d8b063afe",
   "metadata": {},
   "outputs": [
    {
     "name": "stdout",
     "output_type": "stream",
     "text": [
      "[('orange', 80), ('mango', 99), ('grapes', 1000)]\n"
     ]
    }
   ],
   "source": [
    "#Sort a list of tuples having fruit names and their quantity:\n",
    "fruits =[(\"mango\",99),(\"orange\",80),(\"grapes\",1000)]\n",
    "result = sorted(fruits,key =lambda x:x[1])\n",
    "print(result)"
   ]
  },
  {
   "cell_type": "code",
   "execution_count": 16,
   "id": "af18f72a-79e0-4e90-9c9f-02556dcaaa41",
   "metadata": {},
   "outputs": [
    {
     "name": "stdout",
     "output_type": "stream",
     "text": [
      "[1, 4, 9, 16, 25, 36, 49, 64, 81, 100]\n"
     ]
    }
   ],
   "source": [
    "#Find the squares of numbers from 1 to 10:\n",
    "numbers = [1, 2, 3, 4, 5, 6, 7, 8, 9, 10]\n",
    "result = [x**2 for x in numbers]\n",
    "print(result)"
   ]
  },
  {
   "cell_type": "code",
   "execution_count": 17,
   "id": "3211545b-4d49-4f4e-966b-7ed109f1bb40",
   "metadata": {},
   "outputs": [
    {
     "name": "stdout",
     "output_type": "stream",
     "text": [
      "[1, 8, 27, 64, 125, 216, 343, 512, 729, 1000]\n"
     ]
    }
   ],
   "source": [
    "#Find the cube root of numbers from 1 to 10:\n",
    "numbers = [1, 2, 3, 4, 5, 6, 7, 8, 9, 10]\n",
    "result = [x**3 for x in numbers]\n",
    "print(result)"
   ]
  },
  {
   "cell_type": "code",
   "execution_count": 19,
   "id": "897f0cd4-9656-4dc5-ad2b-2c79155ef4d4",
   "metadata": {},
   "outputs": [
    {
     "name": "stdout",
     "output_type": "stream",
     "text": [
      "True\n"
     ]
    }
   ],
   "source": [
    "#Check if a given number is even:\n",
    "number=4\n",
    "result = (lambda x:x%2==0)(number)\n",
    "print(result)"
   ]
  },
  {
   "cell_type": "code",
   "execution_count": 20,
   "id": "f5af8355-1d6b-4bd1-8bd4-f118ffa076f0",
   "metadata": {},
   "outputs": [
    {
     "name": "stdout",
     "output_type": "stream",
     "text": [
      "[1, 3, 5, 7, 9]\n"
     ]
    }
   ],
   "source": [
    "#Filter odd numbers from the given list:\n",
    "numbers = [1, 2, 3, 4, 5, 6, 7, 8, 9, 10]\n",
    "result = list(filter(lambda x: x%2!=0, numbers))\n",
    "print(result)"
   ]
  },
  {
   "cell_type": "code",
   "execution_count": null,
   "id": "0e2eeda7-2ed2-4f35-ae40-863b33a988c0",
   "metadata": {},
   "outputs": [],
   "source": [
    "Sort a list of integers into positive and negative integers lists:"
   ]
  }
 ],
 "metadata": {
  "kernelspec": {
   "display_name": "Python 3 (ipykernel)",
   "language": "python",
   "name": "python3"
  },
  "language_info": {
   "codemirror_mode": {
    "name": "ipython",
    "version": 3
   },
   "file_extension": ".py",
   "mimetype": "text/x-python",
   "name": "python",
   "nbconvert_exporter": "python",
   "pygments_lexer": "ipython3",
   "version": "3.10.6"
  }
 },
 "nbformat": 4,
 "nbformat_minor": 5
}
