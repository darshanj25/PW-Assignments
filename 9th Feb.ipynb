{
 "cells": [
  {
   "cell_type": "code",
   "execution_count": 1,
   "id": "dbbbfab4-6a2f-4820-8955-b81bdd5cdc4b",
   "metadata": {},
   "outputs": [],
   "source": [
    "#solution 1\n",
    "class Vehicle:\n",
    "    \n",
    "    def __init__(self,name_of_vehicle,max_speed,average_of_vehicle):\n",
    "        self.name_of_vehicle = name_of_vehicle\n",
    "        self.max_speed = max_speed\n",
    "        self.average_of_vehicle = average_of_vehicle"
   ]
  },
  {
   "cell_type": "code",
   "execution_count": 2,
   "id": "a75e5cc5-8b8f-4da7-b947-9abd452f6f2b",
   "metadata": {},
   "outputs": [],
   "source": [
    "car = Vehicle(\"Thar\",200,50)"
   ]
  },
  {
   "cell_type": "code",
   "execution_count": 4,
   "id": "57ee03a8-8d9b-4178-b82d-5e61860ef3f4",
   "metadata": {},
   "outputs": [
    {
     "data": {
      "text/plain": [
       "50"
      ]
     },
     "execution_count": 4,
     "metadata": {},
     "output_type": "execute_result"
    }
   ],
   "source": [
    "car.average_of_vehicle"
   ]
  },
  {
   "cell_type": "code",
   "execution_count": 7,
   "id": "6093c0d1-8b01-4cde-8298-4bb4adb2a325",
   "metadata": {},
   "outputs": [],
   "source": [
    "#solution 2\n",
    "class Vehicle:\n",
    "    def __init__(self, make, model, year, weight):\n",
    "        self.make = make\n",
    "        self.model = model\n",
    "        self.year = year\n",
    "        self.weight = weight\n",
    "\n",
    "    def get_make(self):\n",
    "        return self.make\n",
    "\n",
    "    def get_model(self):\n",
    "        return self.model\n",
    "\n",
    "    def get_year(self):\n",
    "        return self.year\n",
    "\n",
    "    def get_weight(self):\n",
    "        return self.weight\n",
    "\n",
    "class Car(Vehicle):\n",
    "    def __init__(self, make, model, year, weight, capacity):\n",
    "        super().__init__(make, model, year, weight)\n",
    "        self.capacity = capacity\n",
    "\n",
    "    def seating_capacity(self):\n",
    "        return f\"{self.make} {self.model} has a seating capacity of {self.capacity} people.\"\n",
    "\n",
    "      "
   ]
  },
  {
   "cell_type": "code",
   "execution_count": 8,
   "id": "0b263601-3682-4beb-9f82-a29e3d012145",
   "metadata": {},
   "outputs": [
    {
     "name": "stdout",
     "output_type": "stream",
     "text": [
      "Toyoto camry has a seating capacity of 5 people.\n"
     ]
    }
   ],
   "source": [
    "car =Car(\"Toyoto\",\"camry\",2023,1500,5)\n",
    "print(car.seating_capacity())"
   ]
  },
  {
   "cell_type": "code",
   "execution_count": 9,
   "id": "eb7e513f-7c02-41d0-ad47-cca61ac91ddf",
   "metadata": {},
   "outputs": [],
   "source": [
    "#solution 3\n",
    "'''Multiple inheritance is a feature of some object-oriented programming languages that allows a class to inherit from multiple parent classes.\n",
    "In other words, a class can have multiple superclasses, and can inherit attributes and behaviors from all of them.'''\n",
    "\n",
    "#Example\n",
    "class Engine:\n",
    "    def start(self):\n",
    "        return \"Engine Started\"\n",
    "\n",
    "class Battery:\n",
    "    def charge(self):\n",
    "        return \"Battery Charged\"\n",
    "\n",
    "class ElectricCar(Engine,Battery):\n",
    "    def __init__(self,make,model,year):\n",
    "        self.make = make\n",
    "        self.model= model\n",
    "        self.year = year\n",
    "        \n",
    "    def drive(self):\n",
    "        return f\"{self.make} {self.model} ({self.year}) is running on electricity !\""
   ]
  },
  {
   "cell_type": "code",
   "execution_count": 10,
   "id": "372f055a-b1b9-4014-aac1-cdd6b93298ea",
   "metadata": {},
   "outputs": [],
   "source": [
    "electric_car = ElectricCar(\"Tesla\",\"Model S\",2022)"
   ]
  },
  {
   "cell_type": "code",
   "execution_count": 12,
   "id": "f9a9d9fe-4e51-44fb-ac14-4d347261b953",
   "metadata": {},
   "outputs": [
    {
     "data": {
      "text/plain": [
       "'Engine Started'"
      ]
     },
     "execution_count": 12,
     "metadata": {},
     "output_type": "execute_result"
    }
   ],
   "source": [
    "electric_car.start()"
   ]
  },
  {
   "cell_type": "code",
   "execution_count": 13,
   "id": "9daf7b0e-501b-4e33-87a5-c48819e853c4",
   "metadata": {},
   "outputs": [
    {
     "data": {
      "text/plain": [
       "'Model S'"
      ]
     },
     "execution_count": 13,
     "metadata": {},
     "output_type": "execute_result"
    }
   ],
   "source": [
    "electric_car.model"
   ]
  },
  {
   "cell_type": "code",
   "execution_count": 14,
   "id": "200bfbd4-4cba-4965-819e-695a365c2bb1",
   "metadata": {},
   "outputs": [
    {
     "data": {
      "text/plain": [
       "'Tesla Model S (2022) is running on electricity !'"
      ]
     },
     "execution_count": 14,
     "metadata": {},
     "output_type": "execute_result"
    }
   ],
   "source": [
    "electric_car.drive()"
   ]
  },
  {
   "cell_type": "code",
   "execution_count": 15,
   "id": "2687a870-9d89-469a-b42f-1d710ce59adc",
   "metadata": {},
   "outputs": [],
   "source": [
    "#solution 4\n",
    "\"\"\"Getters and setters are special methods in object-oriented programming that provide access to an object's attributes.\n",
    "\n",
    "Getters are used to retrieve the value of an object's attributes.\n",
    "They allow you to encapsulate the internal representation of an object and expose it to the outside world in a controlled manner.\n",
    "\n",
    "Setters are used to set the value of an object's attributes.\n",
    "They allow you to validate the values being assigned to an object's attributes and enforce any constraints or conditions that must be met.\"\"\"\n",
    "\n",
    "class Employee:\n",
    "    def __init__(self,name,age):\n",
    "        self.__name = name\n",
    "        self.__age = age\n",
    "        \n",
    "    #getter method\n",
    "    def get_name(self):\n",
    "        return self.__name\n",
    "    #setter method\n",
    "    def set_name(self,name):\n",
    "        if isinstance(name, str) and len(name) > 0:\n",
    "            self._name = name\n",
    "        else:\n",
    "            raise ValueError(\"Name must be a non-empty string\")\n",
    "       \n",
    "    def get_age(self):\n",
    "        return self.__age\n",
    "    \n",
    "    def set_age(self,age):\n",
    "        if isinstance(age, int) and 0 < age <= 120:\n",
    "            self._age = age\n",
    "        else:\n",
    "            raise ValueError(\"Age must be an integer between 1 and 120\")\n",
    "            \n",
    "    # Property decorator to expose the name attribute @property\n",
    "    def name(self):\n",
    "        return self.get_name()\n",
    "    def name(self, name):\n",
    "        self.set_name(name)\n",
    "    def age(self):\n",
    "        return self.get_age()\n",
    "    def age(self,age):\n",
    "        self.set_age(age)"
   ]
  },
  {
   "cell_type": "code",
   "execution_count": 24,
   "id": "a6f22b29-bf23-4c27-b712-6dc086eb0288",
   "metadata": {},
   "outputs": [],
   "source": [
    "employee = Employee(\"kbc\",22)"
   ]
  },
  {
   "cell_type": "code",
   "execution_count": 26,
   "id": "e0f72b89-a0f2-4e04-9dc6-e3c7fb91454a",
   "metadata": {},
   "outputs": [],
   "source": [
    "employee.name = \"jame das\""
   ]
  },
  {
   "cell_type": "code",
   "execution_count": 27,
   "id": "e0990059-ff87-4ad8-a650-884f1b1a4023",
   "metadata": {},
   "outputs": [
    {
     "data": {
      "text/plain": [
       "'jame das'"
      ]
     },
     "execution_count": 27,
     "metadata": {},
     "output_type": "execute_result"
    }
   ],
   "source": [
    "employee.name"
   ]
  },
  {
   "cell_type": "code",
   "execution_count": 28,
   "id": "30f47ba0-e3e0-476e-8881-c39e40d0e8d3",
   "metadata": {},
   "outputs": [],
   "source": [
    "employee.age =45"
   ]
  },
  {
   "cell_type": "code",
   "execution_count": 29,
   "id": "e054cbac-883d-4f4b-8788-24bb616dc862",
   "metadata": {},
   "outputs": [
    {
     "data": {
      "text/plain": [
       "45"
      ]
     },
     "execution_count": 29,
     "metadata": {},
     "output_type": "execute_result"
    }
   ],
   "source": [
    "employee.age"
   ]
  },
  {
   "cell_type": "code",
   "execution_count": 31,
   "id": "65a675b6-53a3-48d1-9557-2ca8086cc538",
   "metadata": {},
   "outputs": [
    {
     "data": {
      "text/plain": [
       "'kbc'"
      ]
     },
     "execution_count": 31,
     "metadata": {},
     "output_type": "execute_result"
    }
   ],
   "source": [
    "employee.get_name()"
   ]
  },
  {
   "cell_type": "code",
   "execution_count": 32,
   "id": "d15a3222-23d0-4a61-bc1c-84e8a5f6e98b",
   "metadata": {},
   "outputs": [
    {
     "data": {
      "text/plain": [
       "22"
      ]
     },
     "execution_count": 32,
     "metadata": {},
     "output_type": "execute_result"
    }
   ],
   "source": [
    "employee.get_age()"
   ]
  },
  {
   "cell_type": "code",
   "execution_count": 34,
   "id": "df9206fe-8a82-4e32-8165-d44189e86129",
   "metadata": {},
   "outputs": [],
   "source": [
    "#solution 5\n",
    "'''Method overriding is a feature of object-oriented programming that allows a subclass to provide a new implementation of a .method defined in its superclass. \n",
    "The new implementation in the subclass is said to override the implementation in the superclass.\n",
    "\n",
    "In Python, method overriding is achieved by defining a method with the same name in the subclass as in the superclass.\n",
    "When a method is called on an object, Python will use the implementation of the method in the class of the object, rather than in the superclass.'''\n",
    "\n",
    "#code \n",
    "class Vehicle:\n",
    "    def __init__(self,make,model,year):\n",
    "        self.make=make\n",
    "        self.model=model\n",
    "        self.year=year\n",
    "    \n",
    "    def description(self):\n",
    "        return f\"{self.make} {self.model} {self.year}\"\n",
    "    \n",
    "class Car(Vehicle):\n",
    "    def __init__(self,make,model,year,num_doors):\n",
    "        super().__init__(make,model,year)\n",
    "        self.num_doors= num_doors\n",
    "        \n",
    "    def description(self):\n",
    "        return f\"{super().description()} with {self.num_doors} doors\""
   ]
  },
  {
   "cell_type": "code",
   "execution_count": 35,
   "id": "4c8c21c2-4713-49eb-8ba6-520807af7f67",
   "metadata": {},
   "outputs": [],
   "source": [
    "car = Car(\"Toyota\",\"Parada\",2020,4)"
   ]
  },
  {
   "cell_type": "code",
   "execution_count": null,
   "id": "b05bc4e9-7af5-42ad-890c-00ec378ea5b5",
   "metadata": {},
   "outputs": [],
   "source": [
    "car.description()"
   ]
  }
 ],
 "metadata": {
  "kernelspec": {
   "display_name": "Python 3 (ipykernel)",
   "language": "python",
   "name": "python3"
  },
  "language_info": {
   "codemirror_mode": {
    "name": "ipython",
    "version": 3
   },
   "file_extension": ".py",
   "mimetype": "text/x-python",
   "name": "python",
   "nbconvert_exporter": "python",
   "pygments_lexer": "ipython3",
   "version": "3.10.6"
  }
 },
 "nbformat": 4,
 "nbformat_minor": 5
}
